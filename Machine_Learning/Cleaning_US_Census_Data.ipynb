{
 "cells": [
  {
   "cell_type": "code",
   "execution_count": null,
   "metadata": {},
   "outputs": [],
   "source": [
    "import pandas as pd\n",
    "import numpy as np\n",
    "import matplotlib.pyplot as plt\n",
    "import codecademylib3_seaborn\n",
    "import glob\n",
    "us_census_list = []\n",
    "load_data = glob.glob('states*.csv')\n",
    "\n",
    "for file in load_data:\n",
    "  df = pd.read_csv(file)\n",
    "  us_census_list.append(df)\n",
    "us_census = pd.concat(us_census_list)  \n",
    "print(us_census.head())\n",
    "\n",
    "print(us_census.columns)\n",
    "print(us_census.dtypes)\n",
    "\n",
    "income_usd = us_census.Income\n",
    "us_census.Income = us_census['Income'].replace('[\\$,]', '', regex=True)\n",
    "us_census.Income = pd.to_numeric(us_census.Income)\n",
    "\n",
    "name_split = us_census.GenderPop.str.split('_')\n",
    "\n",
    "us_census['Men'] = name_split.str.get(0)\n",
    "us_census['Women'] = name_split.str.get(1)\n",
    "\n",
    "us_census.Men = us_census['Men'].replace('[^0-9]', '', regex=True)\n",
    "us_census.Men = pd.to_numeric(us_census.Men)\n",
    "us_census.Women = us_census['Women'].replace('[^0-9]', '', regex=True)\n",
    "us_census.Women = pd.to_numeric(us_census.Women)\n",
    "\n",
    "plt.scatter(us_census.Women, us_census.Men)\n",
    "plt.show()\n",
    "\n",
    "print(us_census.head())\n",
    "print(us_census.Women)\n",
    "\n",
    "us_census = us_census.fillna(value={'Women': us_census.TotalPop - us_census.Men })\n",
    "\n",
    "\n",
    "print(us_census.Women)\n",
    "\n",
    "duplicates = us_census.duplicated()\n",
    "print(len(duplicates))\n",
    "us_census = us_census.drop_duplicates()\n",
    "\n",
    "plt.scatter(us_census.Women, us_census.Men)\n",
    "plt.show()\n",
    "\n",
    "race = ['Hispanic','White','Black', 'Native', 'Asian','Pacific']\n",
    "\n",
    "race_df = us_census[['Hispanic','White','Black', 'Native', 'Asian','Pacific']]\n",
    "print(race_df.dtypes)\n",
    "\n",
    "# WITHOUT RACE HISTOGRAM"
   ]
  }
 ],
 "metadata": {
  "kernelspec": {
   "display_name": "Python 3",
   "language": "python",
   "name": "python3"
  },
  "language_info": {
   "codemirror_mode": {
    "name": "ipython",
    "version": 3
   },
   "file_extension": ".py",
   "mimetype": "text/x-python",
   "name": "python",
   "nbconvert_exporter": "python",
   "pygments_lexer": "ipython3",
   "version": "3.6.8"
  }
 },
 "nbformat": 4,
 "nbformat_minor": 2
}
