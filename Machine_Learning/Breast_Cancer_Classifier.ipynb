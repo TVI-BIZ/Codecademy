{
 "cells": [
  {
   "cell_type": "code",
   "execution_count": null,
   "metadata": {},
   "outputs": [],
   "source": [
    "import codecademylib3_seaborn\n",
    "\n",
    "from sklearn.datasets import load_breast_cancer\n",
    "from sklearn.model_selection import train_test_split\n",
    "from sklearn.neighbors import KNeighborsClassifier\n",
    "import matplotlib.pyplot as plt\n",
    "\n",
    "\n",
    "\n",
    "breast_cancer_data = load_breast_cancer()\n",
    "print(breast_cancer_data.feature_names)\n",
    "print(breast_cancer_data.data[0])\n",
    "print(breast_cancer_data.target)\n",
    "print(breast_cancer_data.target)\n",
    "\n",
    "X = breast_cancer_data.data\n",
    "y = breast_cancer_data.target\n",
    "\n",
    "training_data,validation_data,training_labels,validation_labels = train_test_split(X,y,test_size=0.2,random_state=50)\n",
    "\n",
    "print(len(training_data))\n",
    "print(len(training_labels))\n",
    "\n",
    "classifier = KNeighborsClassifier(n_neighbors = 3)\n",
    "classifier.fit(training_data,training_labels)\n",
    "\n",
    "ac_score = classifier.score(validation_data,validation_labels)\n",
    "print(ac_score)\n",
    "k_list = []\n",
    "accuracies = []\n",
    "\n",
    "for i in range(1,101):\n",
    "  classifier = KNeighborsClassifier(n_neighbors = i).fit(training_data,training_labels)\n",
    "  ac_score = classifier.score(validation_data,validation_labels)\n",
    "  k_list.append(i)\n",
    "  accuracies.append(ac_score)\n",
    "  #print('Accuracy score - {} with k - {}'.format(ac_score,i))\n",
    "  \n",
    "print(\"Best k - 56.For random state - 100\")\n",
    "\n",
    "plt.plot(k_list,accuracies)\n",
    "plt.xlabel(\"k\")\n",
    "plt.ylabel(\"validation accuracy\")\n",
    "plt.title(\"Breast Cancer Classifier Accuracy\")\n",
    "plt.show()"
   ]
  }
 ],
 "metadata": {
  "kernelspec": {
   "display_name": "Python 3",
   "language": "python",
   "name": "python3"
  },
  "language_info": {
   "codemirror_mode": {
    "name": "ipython",
    "version": 3
   },
   "file_extension": ".py",
   "mimetype": "text/x-python",
   "name": "python",
   "nbconvert_exporter": "python",
   "pygments_lexer": "ipython3",
   "version": "3.6.8"
  }
 },
 "nbformat": 4,
 "nbformat_minor": 2
}
