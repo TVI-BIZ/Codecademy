{
 "cells": [
  {
   "cell_type": "code",
   "execution_count": null,
   "metadata": {},
   "outputs": [],
   "source": [
    "import codecademylib3_seaborn\n",
    "import pandas as pd\n",
    "from sklearn.model_selection import train_test_split\n",
    "from sklearn.tree import DecisionTreeClassifier\n",
    "import matplotlib.pyplot as plt\n",
    "\n",
    "flags = pd.read_csv('flags.csv',header=0)\n",
    "print(flags.head())\n",
    "print(flags.columns)\n",
    "\n",
    "labels = flags[['Landmass']]\n",
    "\n",
    "data = flags[[\"Red\", \"Green\", \"Blue\", \"Gold\",\n",
    " \"White\", \"Black\", \"Orange\",\n",
    " \"Circles\",\n",
    "\"Crosses\",\"Saltires\",\"Quarters\",\"Sunstars\",\n",
    "\"Crescent\",\"Triangle\"]]\n",
    "\n",
    "train_data,test_data,train_labels,test_labels = train_test_split(data,labels,test_size = 0.2)\n",
    "\n",
    "tree = DecisionTreeClassifier(random_state = 1).fit(train_data,train_labels)\n",
    "\n",
    "print(tree.score(test_data,test_labels))\n",
    "\n",
    "scores = []\n",
    "points = []\n",
    "for i in range(1,20):\n",
    "  tree = DecisionTreeClassifier(max_depth=i,random_state = 1).fit(train_data,train_labels)\n",
    "  scores.append(tree.score(test_data,test_labels))\n",
    "  points.append(i)\n",
    "  #print(\"Acuracy score is - {}, with tree depth - {}\".format(tree.score(test_data,test_labels),i))\n",
    "print(scores)\t\n",
    "  \n",
    "plt.plot(points,scores)\n",
    "plt.show()"
   ]
  }
 ],
 "metadata": {
  "kernelspec": {
   "display_name": "Python 3",
   "language": "python",
   "name": "python3"
  },
  "language_info": {
   "codemirror_mode": {
    "name": "ipython",
    "version": 3
   },
   "file_extension": ".py",
   "mimetype": "text/x-python",
   "name": "python",
   "nbconvert_exporter": "python",
   "pygments_lexer": "ipython3",
   "version": "3.6.8"
  }
 },
 "nbformat": 4,
 "nbformat_minor": 2
}
