{
 "cells": [
  {
   "cell_type": "code",
   "execution_count": null,
   "metadata": {},
   "outputs": [],
   "source": [
    "import codecademylib3_seaborn\n",
    "import pandas as pd\n",
    "import matplotlib.pyplot as plt\n",
    "import numpy as np\n",
    "from sklearn import linear_model\n",
    "\n",
    "df = pd.read_csv(\"https://s3.amazonaws.com/codecademy-content/programs/data-science-path/linear_regression/honeyproduction.csv\")\n",
    "\n",
    "print(df.head())\n",
    "\n",
    "totalprod = df.groupby(['year']).totalprod.mean().reset_index()\n",
    "print(totalprod.head())\n",
    "\n",
    "X = totalprod['year']\n",
    "X = X.values.reshape(-1,1)\n",
    "print(X)\n",
    "y = totalprod['totalprod']\n",
    "\n",
    "plt.scatter(X,y,)\n",
    "plt.show()\n",
    "\n",
    "regr = linear_model.LinearRegression()\n",
    "regr.fit(X,y)\n",
    "print(\"Sloper is {}\".format(regr.coef_))\n",
    "print(\"Intercept is {}\".format(regr.intercept_))\n",
    "\n",
    "y_predict = regr.predict(X)\n",
    "\n",
    "plt.plot(X,y_predict)\n",
    "plt.show()\n",
    "\n",
    "X_future = np.array(range(2013,2050))\n",
    "X_future = X_future.reshape(-1,1)\n",
    "\n",
    "future_predict = regr.predict(X_future)\n",
    "\n",
    "plt.plot(X_future,future_predict)\n",
    "plt.show()\n",
    "\n"
   ]
  }
 ],
 "metadata": {
  "kernelspec": {
   "display_name": "Python 3",
   "language": "python",
   "name": "python3"
  },
  "language_info": {
   "codemirror_mode": {
    "name": "ipython",
    "version": 3
   },
   "file_extension": ".py",
   "mimetype": "text/x-python",
   "name": "python",
   "nbconvert_exporter": "python",
   "pygments_lexer": "ipython3",
   "version": "3.6.8"
  }
 },
 "nbformat": 4,
 "nbformat_minor": 2
}
