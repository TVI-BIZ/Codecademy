{
 "cells": [
  {
   "cell_type": "code",
   "execution_count": null,
   "metadata": {},
   "outputs": [],
   "source": [
    "from connect_four import *\n",
    "\n",
    "def random_eval(board):\n",
    "  rnd_num = random.randint(-100, 100)\n",
    "  return rnd_num\n",
    "\n",
    "def my_evaluate_board(board):\n",
    "  if has_won(board,'X'):\n",
    "    return float('Inf')\n",
    "  elif has_won(board,'O'):\n",
    "    return -float('Inf')\n",
    "  x_two_streak = 0\n",
    "  o_two_streak = 0\n",
    "  for col in range(len(board) -1):\n",
    "    for row in range(len(board[0])):\n",
    "      if board[col][row] and board[col+1][row] == 'X':\n",
    "        x_two_streak += 1\n",
    "      elif board[col][row] and board[col+1][row] == 'O':\n",
    "        o_two_streak += 1\n",
    "  return x_two_streak - o_two_streak\n",
    "\n",
    "\n",
    "def two_ai_game():\n",
    "    my_board = make_board()\n",
    "    while not game_is_over(my_board):\n",
    "      #The \"X\" player finds their best move.\n",
    "      result = minimax(my_board, True, 4, -float(\"Inf\"), float(\"Inf\"), my_evaluate_board)\n",
    "      print( \"X Turn\\nX selected \", result[1])\n",
    "      print(result[1])\n",
    "      select_space(my_board, result[1], \"X\")\n",
    "      print_board(my_board)\n",
    "\n",
    "      if not game_is_over(my_board):\n",
    "        #The \"O\" player finds their best move\n",
    "        result = minimax(my_board, False, 4, -float(\"Inf\"), float(\"Inf\"), my_evaluate_board)\n",
    "        print( \"O Turn\\nO selected \", result[1])\n",
    "        print(result[1])\n",
    "        select_space(my_board, result[1], \"O\")\n",
    "        print_board(my_board)\n",
    "    if has_won(my_board, \"X\"):\n",
    "        print(\"X won!\")\n",
    "    elif has_won(my_board, \"O\"):\n",
    "        print(\"O won!\")\n",
    "    else:\n",
    "        print(\"It's a tie!\")\n",
    "\n",
    "two_ai_game()\n",
    "new_board = make_board()\n",
    "#select_space(new_board,6,'X')\n",
    "#select_space(new_board,10,'O')\n",
    "#print_board(new_board)\n",
    "\n",
    "#print(my_evaluate_board(new_board))"
   ]
  }
 ],
 "metadata": {
  "kernelspec": {
   "display_name": "Python 3",
   "language": "python",
   "name": "python3"
  },
  "language_info": {
   "codemirror_mode": {
    "name": "ipython",
    "version": 3
   },
   "file_extension": ".py",
   "mimetype": "text/x-python",
   "name": "python",
   "nbconvert_exporter": "python",
   "pygments_lexer": "ipython3",
   "version": "3.6.8"
  }
 },
 "nbformat": 4,
 "nbformat_minor": 2
}
