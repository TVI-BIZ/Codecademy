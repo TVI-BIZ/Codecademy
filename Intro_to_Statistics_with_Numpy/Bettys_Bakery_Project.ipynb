{
 "cells": [
  {
   "cell_type": "code",
   "execution_count": 2,
   "metadata": {},
   "outputs": [],
   "source": [
    "import numpy as np\n",
    "cupcakes = np.array([2.0,0.75,2.0,1.0,0.5], dtype='float64')\n",
    "print(\"CupCakes:{}\".format(cupcakes))\n",
    "recipes = np.genfromtxt('recipes.csv', delimiter=',')\n",
    "print(\"Recipes:{}\".format(recipes))\n",
    "eggs = recipes[:,2]\n",
    "print(\"Eggs:{}\".format(eggs))\n",
    "one_egg_recipes = recipes[(eggs==1)]\n",
    "print(\"One Egg Recipies:{}\".format(one_egg_recipes))\n",
    "cookies = recipes[2,:]\n",
    "print(\"Cookies:{}\".format(cookies))\n",
    "double_batch = cupcakes * 2\n",
    "grocery_list = cookies + double_batch\n",
    "print(\"Grocery List:{}\".format(grocery_list))"
   ]
  },
  {
   "cell_type": "code",
   "execution_count": null,
   "metadata": {},
   "outputs": [],
   "source": []
  }
 ],
 "metadata": {
  "kernelspec": {
   "display_name": "Python 3",
   "language": "python",
   "name": "python3"
  },
  "language_info": {
   "codemirror_mode": {
    "name": "ipython",
    "version": 3
   },
   "file_extension": ".py",
   "mimetype": "text/x-python",
   "name": "python",
   "nbconvert_exporter": "python",
   "pygments_lexer": "ipython3",
   "version": "3.6.8"
  }
 },
 "nbformat": 4,
 "nbformat_minor": 2
}
