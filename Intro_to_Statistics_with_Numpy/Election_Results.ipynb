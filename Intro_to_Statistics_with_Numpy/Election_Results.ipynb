{
 "cells": [
  {
   "cell_type": "code",
   "execution_count": null,
   "metadata": {},
   "outputs": [],
   "source": [
    "import numpy as np\n",
    "import matplotlib.pyplot as plt\n",
    "\n",
    "\n",
    "survey_responses = ['Ceballos', 'Kerrigan', 'Ceballos', 'Ceballos', 'Ceballos','Kerrigan', 'Kerrigan', 'Ceballos', 'Ceballos', 'Ceballos', \n",
    "'Kerrigan', 'Kerrigan', 'Ceballos', 'Ceballos', 'Kerrigan', 'Kerrigan', 'Ceballos', 'Ceballos', 'Kerrigan', 'Kerrigan', 'Kerrigan', 'Kerrigan', 'Kerrigan', 'Kerrigan', 'Ceballos', 'Ceballos', 'Ceballos', 'Ceballos', 'Ceballos', 'Ceballos',\n",
    "'Kerrigan', 'Kerrigan', 'Ceballos', 'Ceballos', 'Ceballos', 'Kerrigan', 'Kerrigan', 'Ceballos', 'Ceballos', 'Kerrigan', 'Kerrigan', 'Ceballos', 'Ceballos', 'Kerrigan', 'Kerrigan', 'Kerrigan', 'Kerrigan', 'Kerrigan', 'Kerrigan', 'Ceballos',\n",
    "'Kerrigan', 'Kerrigan', 'Ceballos', 'Ceballos', 'Ceballos', 'Kerrigan', 'Kerrigan', 'Ceballos', 'Ceballos', 'Kerrigan', 'Kerrigan', 'Ceballos', 'Ceballos', 'Kerrigan', 'Kerrigan', 'Kerrigan', 'Kerrigan', 'Kerrigan', 'Kerrigan', 'Ceballos']\n",
    "\n",
    "survey_np = np.array([survey_responses])\n",
    "\n",
    "percentage_ceballos = np.mean(survey_np == 'Ceballos')\n",
    "total_ceballos_perc = percentage_ceballos * len(survey_responses)\n",
    "\n",
    "print(total_ceballos_perc)\n",
    "print(percentage_ceballos)\n",
    "\n",
    "binomial_d = np.random.binomial(len(survey_responses),0.54,size=10000)\n",
    "possible_surveys = binomial_d / float(len(survey_responses))\n",
    "print(possible_surveys)\n",
    "\n",
    "plt.hist(possible_surveys, bins=20, range=(0,1))\n",
    "plt.show()\n",
    "\n",
    "ceballos_loss_surveys = np.mean(possible_surveys < 0.5)\n",
    "print(ceballos_loss_surveys)\n",
    "\n",
    "large_survey_bin = np.random.binomial(7000,0.54,size=10000)\n",
    "large_survey = large_survey_bin / float(7000)\n",
    "print(large_survey)\n",
    "\n",
    "ceballos_loss_new = np.mean(large_survey < 0.5)\n",
    "print(ceballos_loss_new)"
   ]
  }
 ],
 "metadata": {
  "kernelspec": {
   "display_name": "Python 3",
   "language": "python",
   "name": "python3"
  },
  "language_info": {
   "codemirror_mode": {
    "name": "ipython",
    "version": 3
   },
   "file_extension": ".py",
   "mimetype": "text/x-python",
   "name": "python",
   "nbconvert_exporter": "python",
   "pygments_lexer": "ipython3",
   "version": "3.6.8"
  }
 },
 "nbformat": 4,
 "nbformat_minor": 2
}
