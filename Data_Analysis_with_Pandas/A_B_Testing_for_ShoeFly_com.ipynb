{
 "cells": [
  {
   "cell_type": "code",
   "execution_count": null,
   "metadata": {},
   "outputs": [],
   "source": [
    "import codecademylib\n",
    "import pandas as pd\n",
    "import numpy as np\n",
    "import math\n",
    "\n",
    "ad_clicks = pd.read_csv('ad_clicks.csv')\n",
    "print(ad_clicks.head())\n",
    "platform_clicks = ad_clicks.groupby(['utm_source']).user_id.count().reset_index()\n",
    "print(platform_clicks.head())\n",
    "ad_clicks['is_click'] = ad_clicks.ad_click_timestamp.apply(lambda x: False if pd.isnull(x) else True )\n",
    "print(ad_clicks.head())\n",
    "clicks_by_source = ad_clicks.groupby(['utm_source','is_click']).user_id.count().reset_index()\n",
    "print(clicks_by_source.head())\n",
    "clicks_pivot = clicks_by_source.pivot(\n",
    "columns = 'is_click',\n",
    "index = 'utm_source',\n",
    "values = 'user_id').reset_index()\n",
    "print(clicks_pivot.head())\n",
    "\n",
    "clicks_pivot['percent_clicked'] = clicks_pivot[True] / (clicks_pivot[True] + clicks_pivot[False])\n",
    "print(clicks_pivot.head())\n",
    "\n",
    "great_persentage = ad_clicks.groupby(['experimental_group']).user_id.count().reset_index()\n",
    "\n",
    "print(great_persentage.head())\n",
    "\n",
    "a_clicks = ad_clicks[ad_clicks.experimental_group == 'A']\n",
    "b_clicks = ad_clicks[ad_clicks.experimental_group == 'B']\n",
    "\n",
    "new_clicked_a = a_clicks.groupby(['is_click','day']).user_id.count().reset_index()\n",
    "\n",
    "new_clicked_b = b_clicks.groupby(['is_click','day']).user_id.count().reset_index()\n",
    "\n",
    "a_clicks_pivot = new_clicked_a.pivot(columns = 'is_click',\n",
    "                               index = 'day',\n",
    "                               values = 'user_id' )\n",
    "\n",
    "a_clicks_pivot['percent'] = a_clicks_pivot[True] / (a_clicks_pivot[True] + a_clicks_pivot[False])\n",
    "\n",
    "print(a_clicks_pivot)\n",
    "\n",
    "b_clicks_pivot = new_clicked_b.pivot(columns = 'is_click',\n",
    "                               index = 'day',\n",
    "                               values = 'user_id' )\n",
    "\n",
    "b_clicks_pivot['percent'] = b_clicks_pivot[True] / (b_clicks_pivot[True] + b_clicks_pivot[False])\n",
    "\n",
    "print(b_clicks_pivot)\n",
    "\n",
    "print(\"recommend A\")\n",
    "\n",
    "\n"
   ]
  }
 ],
 "metadata": {
  "kernelspec": {
   "display_name": "Python 3",
   "language": "python",
   "name": "python3"
  },
  "language_info": {
   "codemirror_mode": {
    "name": "ipython",
    "version": 3
   },
   "file_extension": ".py",
   "mimetype": "text/x-python",
   "name": "python",
   "nbconvert_exporter": "python",
   "pygments_lexer": "ipython3",
   "version": "3.6.8"
  }
 },
 "nbformat": 4,
 "nbformat_minor": 2
}
