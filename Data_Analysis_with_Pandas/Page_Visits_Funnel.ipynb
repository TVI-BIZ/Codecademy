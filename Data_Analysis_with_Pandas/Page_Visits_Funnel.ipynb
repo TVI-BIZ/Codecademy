{
 "cells": [
  {
   "cell_type": "code",
   "execution_count": null,
   "metadata": {},
   "outputs": [],
   "source": [
    "import codecademylib\n",
    "import pandas as pd\n",
    "\n",
    "visits = pd.read_csv('visits.csv',\n",
    "                     parse_dates=[1])\n",
    "cart = pd.read_csv('cart.csv',\n",
    "                   parse_dates=[1])\n",
    "checkout = pd.read_csv('checkout.csv',\n",
    "                       parse_dates=[1])\n",
    "purchase = pd.read_csv('purchase.csv',\n",
    "                       parse_dates=[1])\n",
    "print(visits.head())\n",
    "print(cart.head())\n",
    "print(checkout.head())\n",
    "print(purchase.head())\n",
    "\n",
    "combined_df = pd.merge(visits,cart, how='left')\n",
    "print(combined_df.head())\n",
    "combined_length = len(combined_df)\n",
    "print(\"Combined Dataframe Length is : {}\".format(combined_length))\n",
    "\n",
    "null_cart_time = combined_df[( pd.isnull(combined_df.cart_time) )]\n",
    "null_cart_time_length = len(null_cart_time)\n",
    "print(\"Null Cart Time Dataframe Length is: {}\".format(null_cart_time_length))\n",
    "print(\"Percent of visitors not place t-shirt in cart: {}\".format(null_cart_time_length / float(combined_length)))\n",
    "\n",
    "combined_df2 = pd.merge(cart,checkout, how='left')\n",
    "combined_length2 = len(combined_df2)\n",
    "print(\"Combined Dataframe2 Length is : {}\".format(combined_length2))\n",
    "null_checkout_time = combined_df2[( pd.isnull(combined_df2.\tcheckout_time) )]\n",
    "null_checkout_time_length = len(null_checkout_time)\n",
    "print(\"Null Checkout Time Dataframe Length is: {}\".format(null_checkout_time_length))\n",
    "print(\"Percent of visitors not checkout: {}\".format(null_checkout_time_length / float(combined_length2)))\n",
    "\n",
    "#all_data = pd.merge(visits,cart, how='left') pd.merge(cart,checkout, how='left')\n",
    "\n",
    "all_data = visits.merge(cart, how='left').merge(cart).merge(checkout, how='left')\n",
    "print(all_data.head())\n",
    "\n",
    "all_data['time_to_purchase'] = all_data.cart_time - all_data.visit_time\n",
    "\n",
    "print(all_data.head())\n",
    "\n",
    "print('Average purchase time: {}'.format(all_data.time_to_purchase.mean()))\n",
    "\n",
    "\n"
   ]
  }
 ],
 "metadata": {
  "kernelspec": {
   "display_name": "Python 3",
   "language": "python",
   "name": "python3"
  },
  "language_info": {
   "codemirror_mode": {
    "name": "ipython",
    "version": 3
   },
   "file_extension": ".py",
   "mimetype": "text/x-python",
   "name": "python",
   "nbconvert_exporter": "python",
   "pygments_lexer": "ipython3",
   "version": "3.6.8"
  }
 },
 "nbformat": 4,
 "nbformat_minor": 2
}
